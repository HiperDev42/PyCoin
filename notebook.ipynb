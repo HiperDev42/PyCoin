{
 "cells": [
  {
   "cell_type": "markdown",
   "metadata": {},
   "source": [
    "# PyCoin Notebook"
   ]
  },
  {
   "cell_type": "code",
   "execution_count": 14,
   "metadata": {},
   "outputs": [],
   "source": [
    "import pycoin\n",
    "\n",
    "\n",
    "blockchain = pycoin.Blockchain()\n",
    "\n",
    "NODE_PORT = 4000\n",
    "NODE_ADDRESS = 'localhost'"
   ]
  },
  {
   "cell_type": "markdown",
   "metadata": {},
   "source": [
    "## Wallet"
   ]
  },
  {
   "cell_type": "markdown",
   "metadata": {},
   "source": [
    "### Creating a new wallet\n",
    "\n",
    "To create a new wallet, you can use the `create_wallet` function. "
   ]
  },
  {
   "cell_type": "code",
   "execution_count": 15,
   "metadata": {},
   "outputs": [],
   "source": [
    "from pycoin.wallet import Wallet, create_wallet\n",
    "\n",
    "key_filename = 'wallet.pem'\n",
    "def create_if_not_exists(filename: str):\n",
    "    try:\n",
    "        return Wallet(key_filename, blockchain)\n",
    "    except FileNotFoundError:\n",
    "        return create_wallet(key_filename)\n",
    "\n",
    "wallet = create_if_not_exists(key_filename)"
   ]
  },
  {
   "cell_type": "code",
   "execution_count": 16,
   "metadata": {},
   "outputs": [
    {
     "data": {
      "text/plain": [
       "0"
      ]
     },
     "execution_count": 16,
     "metadata": {},
     "output_type": "execute_result"
    }
   ],
   "source": [
    "wallet.getBalance()"
   ]
  },
  {
   "cell_type": "code",
   "execution_count": 18,
   "metadata": {},
   "outputs": [
    {
     "name": "stderr",
     "output_type": "stream",
     "text": [
      "[\u001b[34mDEBUG\u001b[0m] Transactions to mine 0\n",
      "[\u001b[33mINFO\u001b[0m] Mining block...\n",
      "[\u001b[34mDEBUG\u001b[0m] Block mined in 0.03 seconds\n",
      "[\u001b[34mDEBUG\u001b[0m] New block added to chain (005fac7758e327868b964aa5a6ebb204c08d880cb0f967f7f8b7abd3c2ac7ca2)\n"
     ]
    },
    {
     "data": {
      "text/plain": [
       "100"
      ]
     },
     "execution_count": 18,
     "metadata": {},
     "output_type": "execute_result"
    }
   ],
   "source": [
    "blockchain.minePendingTxs(wallet.pubKeyHash())\n",
    "wallet.getBalance()"
   ]
  },
  {
   "cell_type": "code",
   "execution_count": 22,
   "metadata": {},
   "outputs": [
    {
     "name": "stderr",
     "output_type": "stream",
     "text": [
      "[\u001b[34mDEBUG\u001b[0m] Running OP_DUP\n",
      "[\u001b[34mDEBUG\u001b[0m] Running OP_HASH160\n",
      "[\u001b[34mDEBUG\u001b[0m] Running OP_PUSHDATA\n",
      "[\u001b[34mDEBUG\u001b[0m] Running OP_EQUALVERIFY\n",
      "[\u001b[34mDEBUG\u001b[0m] Running OP_CHECKSIG\n",
      "[\u001b[34mDEBUG\u001b[0m] Running OP_DUP\n",
      "[\u001b[34mDEBUG\u001b[0m] Running OP_HASH160\n",
      "[\u001b[34mDEBUG\u001b[0m] Running OP_PUSHDATA\n",
      "[\u001b[34mDEBUG\u001b[0m] Running OP_EQUALVERIFY\n",
      "[\u001b[34mDEBUG\u001b[0m] Running OP_CHECKSIG\n",
      "[\u001b[33mINFO\u001b[0m] Transaction submitted: dadbd3aadd866daf79c03a2feac392cb6f64f7c9f55965ee6d57d9eba3cf9cee\n",
      "[\u001b[34mDEBUG\u001b[0m] Transactions to mine 1\n",
      "[\u001b[33mINFO\u001b[0m] Mining block...\n",
      "[\u001b[34mDEBUG\u001b[0m] Block mined in 0.00 seconds\n",
      "[\u001b[34mDEBUG\u001b[0m] New block added to chain (0004a6421bd1943b1234a5ddff1b24af91b21fe3c580ed79c2cedf0df1d83ae0)\n"
     ]
    },
    {
     "name": "stdout",
     "output_type": "stream",
     "text": [
      "Wallet: 300\n",
      "Receiver: 300\n"
     ]
    }
   ],
   "source": [
    "miner = create_if_not_exists('miner.pem')\n",
    "receiver = create_if_not_exists('bob.pem')\n",
    "\n",
    "tx = wallet.createTx(receiver.get_p2pkh_address(), 100)\n",
    "blockchain.submitTx(tx)\n",
    "blockchain.minePendingTxs(miner.pubKeyHash())\n",
    "\n",
    "print(f'Wallet: {wallet.getBalance()}')\n",
    "print(f'Receiver: {receiver.getBalance()}')"
   ]
  }
 ],
 "metadata": {
  "kernelspec": {
   "display_name": ".venv",
   "language": "python",
   "name": "python3"
  },
  "language_info": {
   "codemirror_mode": {
    "name": "ipython",
    "version": 3
   },
   "file_extension": ".py",
   "mimetype": "text/x-python",
   "name": "python",
   "nbconvert_exporter": "python",
   "pygments_lexer": "ipython3",
   "version": "3.10.12"
  }
 },
 "nbformat": 4,
 "nbformat_minor": 2
}
