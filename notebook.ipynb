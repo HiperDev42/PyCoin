{
 "cells": [
  {
   "cell_type": "markdown",
   "metadata": {},
   "source": [
    "# PyCoin Notebook"
   ]
  },
  {
   "cell_type": "code",
   "execution_count": 1,
   "metadata": {},
   "outputs": [],
   "source": [
    "import pycoin\n",
    "\n",
    "NODE_PORT = 4000\n",
    "NODE_ADDRESS = 'localhost'"
   ]
  },
  {
   "cell_type": "markdown",
   "metadata": {},
   "source": [
    "## Request blocks"
   ]
  },
  {
   "cell_type": "code",
   "execution_count": 4,
   "metadata": {},
   "outputs": [
    {
     "name": "stderr",
     "output_type": "stream",
     "text": [
      "[\u001b[34mDEBUG\u001b[0m] Connected\n",
      "[\u001b[34mDEBUG\u001b[0m] Startinig request - ping\n"
     ]
    }
   ],
   "source": [
    "from random import randbytes\n",
    "\n",
    "async def ping():\n",
    "    conn = pycoin.Connection(NODE_ADDRESS, NODE_PORT)\n",
    "    data = randbytes(32)\n",
    "    async with conn:\n",
    "        response = await conn.request('ping', data)\n",
    "        assert response.payload == data\n",
    "\n",
    "await ping()"
   ]
  }
 ],
 "metadata": {
  "kernelspec": {
   "display_name": ".venv",
   "language": "python",
   "name": "python3"
  },
  "language_info": {
   "codemirror_mode": {
    "name": "ipython",
    "version": 3
   },
   "file_extension": ".py",
   "mimetype": "text/x-python",
   "name": "python",
   "nbconvert_exporter": "python",
   "pygments_lexer": "ipython3",
   "version": "3.10.12"
  }
 },
 "nbformat": 4,
 "nbformat_minor": 2
}
