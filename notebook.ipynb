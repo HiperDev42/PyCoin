{
 "cells": [
  {
   "cell_type": "markdown",
   "metadata": {},
   "source": [
    "# PyCoin Notebook"
   ]
  },
  {
   "cell_type": "code",
   "execution_count": 1,
   "metadata": {},
   "outputs": [],
   "source": [
    "import pycoin\n",
    "\n",
    "NODE_PORT = 4000\n",
    "NODE_ADDRESS = 'localhost'"
   ]
  },
  {
   "cell_type": "markdown",
   "metadata": {},
   "source": [
    "## Request blocks"
   ]
  },
  {
   "cell_type": "code",
   "execution_count": 11,
   "metadata": {},
   "outputs": [
    {
     "name": "stdout",
     "output_type": "stream",
     "text": [
      "Message(command='pong', payload=b'hello', magic=b'\\x00\\x00\\x00\\x00')\n"
     ]
    }
   ],
   "source": [
    "import socket\n",
    "\n",
    "msg = pycoin.Message(command='ping', payload=b'hello')\n",
    "conn = socket.socket(socket.AF_INET, socket.SOCK_STREAM)\n",
    "conn.connect((NODE_ADDRESS, NODE_PORT))\n",
    "conn.sendall(msg.pack())\n",
    "response = pycoin.Message.unpack(conn.recv(1024))\n",
    "print(response)"
   ]
  }
 ],
 "metadata": {
  "kernelspec": {
   "display_name": ".venv",
   "language": "python",
   "name": "python3"
  },
  "language_info": {
   "codemirror_mode": {
    "name": "ipython",
    "version": 3
   },
   "file_extension": ".py",
   "mimetype": "text/x-python",
   "name": "python",
   "nbconvert_exporter": "python",
   "pygments_lexer": "ipython3",
   "version": "3.10.12"
  }
 },
 "nbformat": 4,
 "nbformat_minor": 2
}
